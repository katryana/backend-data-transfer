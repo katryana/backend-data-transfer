{
 "cells": [
  {
   "cell_type": "markdown",
   "source": [
    "# Step 1. Data extraction"
   ],
   "metadata": {
    "collapsed": false
   },
   "id": "6f50ea6583daabd0"
  },
  {
   "cell_type": "code",
   "outputs": [
    {
     "data": {
      "text/plain": "             date           updateDate  code1      code2          code3  \\\n0      2017-01-01  2022-01-19 12:00:00    shC         CA           PROD   \n1      2017-01-01  2022-04-30 18:00:00    shC         CA           PROD   \n2      2017-01-01  2022-01-19 12:00:00    shC         CA           PROD   \n3      2010-01-01  2010-12-31 00:00:00  shAAz  W/ALL/DUR             AH   \n4      2010-01-01  2010-12-31 00:00:00  shAAz  W/ALL/DUR             AP   \n...           ...                  ...    ...        ...            ...   \n9998   2010-01-01  2010-12-01 00:00:00  shAIa        S/1   STKS/ON_FARM   \n9999   2010-01-01  2010-12-31 00:00:00  shAVa        C/1            YLD   \n10000  2010-01-01  2010-12-31 00:00:00  shAVa        C/1             AP   \n10001  2010-01-01  2010-12-31 00:00:00  shAVa        C/1            YLD   \n10002  2010-01-01  2010-12-01 00:00:00  shAKs        S/1  STKS/OFF_FARM   \n\n             value source  \n0            160.0     S1  \n1            200.0     S1  \n2            160.0     S1  \n3           6200.0     S1  \n4           3700.0     S1  \n...            ...    ...  \n9998   160000000.0     S1  \n9999          76.9     S1  \n10000       3900.0     S1  \n10001         26.3     S1  \n10002   66034000.0     S1  \n\n[10003 rows x 7 columns]",
      "text/html": "<div>\n<style scoped>\n    .dataframe tbody tr th:only-of-type {\n        vertical-align: middle;\n    }\n\n    .dataframe tbody tr th {\n        vertical-align: top;\n    }\n\n    .dataframe thead th {\n        text-align: right;\n    }\n</style>\n<table border=\"1\" class=\"dataframe\">\n  <thead>\n    <tr style=\"text-align: right;\">\n      <th></th>\n      <th>date</th>\n      <th>updateDate</th>\n      <th>code1</th>\n      <th>code2</th>\n      <th>code3</th>\n      <th>value</th>\n      <th>source</th>\n    </tr>\n  </thead>\n  <tbody>\n    <tr>\n      <th>0</th>\n      <td>2017-01-01</td>\n      <td>2022-01-19 12:00:00</td>\n      <td>shC</td>\n      <td>CA</td>\n      <td>PROD</td>\n      <td>160.0</td>\n      <td>S1</td>\n    </tr>\n    <tr>\n      <th>1</th>\n      <td>2017-01-01</td>\n      <td>2022-04-30 18:00:00</td>\n      <td>shC</td>\n      <td>CA</td>\n      <td>PROD</td>\n      <td>200.0</td>\n      <td>S1</td>\n    </tr>\n    <tr>\n      <th>2</th>\n      <td>2017-01-01</td>\n      <td>2022-01-19 12:00:00</td>\n      <td>shC</td>\n      <td>CA</td>\n      <td>PROD</td>\n      <td>160.0</td>\n      <td>S1</td>\n    </tr>\n    <tr>\n      <th>3</th>\n      <td>2010-01-01</td>\n      <td>2010-12-31 00:00:00</td>\n      <td>shAAz</td>\n      <td>W/ALL/DUR</td>\n      <td>AH</td>\n      <td>6200.0</td>\n      <td>S1</td>\n    </tr>\n    <tr>\n      <th>4</th>\n      <td>2010-01-01</td>\n      <td>2010-12-31 00:00:00</td>\n      <td>shAAz</td>\n      <td>W/ALL/DUR</td>\n      <td>AP</td>\n      <td>3700.0</td>\n      <td>S1</td>\n    </tr>\n    <tr>\n      <th>...</th>\n      <td>...</td>\n      <td>...</td>\n      <td>...</td>\n      <td>...</td>\n      <td>...</td>\n      <td>...</td>\n      <td>...</td>\n    </tr>\n    <tr>\n      <th>9998</th>\n      <td>2010-01-01</td>\n      <td>2010-12-01 00:00:00</td>\n      <td>shAIa</td>\n      <td>S/1</td>\n      <td>STKS/ON_FARM</td>\n      <td>160000000.0</td>\n      <td>S1</td>\n    </tr>\n    <tr>\n      <th>9999</th>\n      <td>2010-01-01</td>\n      <td>2010-12-31 00:00:00</td>\n      <td>shAVa</td>\n      <td>C/1</td>\n      <td>YLD</td>\n      <td>76.9</td>\n      <td>S1</td>\n    </tr>\n    <tr>\n      <th>10000</th>\n      <td>2010-01-01</td>\n      <td>2010-12-31 00:00:00</td>\n      <td>shAVa</td>\n      <td>C/1</td>\n      <td>AP</td>\n      <td>3900.0</td>\n      <td>S1</td>\n    </tr>\n    <tr>\n      <th>10001</th>\n      <td>2010-01-01</td>\n      <td>2010-12-31 00:00:00</td>\n      <td>shAVa</td>\n      <td>C/1</td>\n      <td>YLD</td>\n      <td>26.3</td>\n      <td>S1</td>\n    </tr>\n    <tr>\n      <th>10002</th>\n      <td>2010-01-01</td>\n      <td>2010-12-01 00:00:00</td>\n      <td>shAKs</td>\n      <td>S/1</td>\n      <td>STKS/OFF_FARM</td>\n      <td>66034000.0</td>\n      <td>S1</td>\n    </tr>\n  </tbody>\n</table>\n<p>10003 rows × 7 columns</p>\n</div>"
     },
     "execution_count": 3,
     "metadata": {},
     "output_type": "execute_result"
    }
   ],
   "source": [
    "import pandas as pd\n",
    "\n",
    "df = pd.read_csv(\"db_table.csv\")"
   ],
   "metadata": {
    "collapsed": false,
    "ExecuteTime": {
     "end_time": "2024-01-02T09:30:40.338078Z",
     "start_time": "2024-01-02T09:30:40.033863500Z"
    }
   },
   "id": "391cb6c1634848e8",
   "execution_count": 3
  },
  {
   "cell_type": "markdown",
   "source": [
    "# Step 2. Data transformation"
   ],
   "metadata": {
    "collapsed": false
   },
   "id": "256fe96098e66a04"
  },
  {
   "cell_type": "markdown",
   "source": [
    "Creating \"bitCode\" column:\n",
    "* 1 - if source equals S1, \n",
    "* 0 otherwise."
   ],
   "metadata": {
    "collapsed": false
   },
   "id": "d89eea9158d6215d"
  },
  {
   "cell_type": "code",
   "outputs": [],
   "source": [
    "def categorize_source(source):\n",
    "    if source == \"S1\":\n",
    "        return 1\n",
    "    return 0\n",
    "\n",
    "df[\"bitCode\"] = df[\"source\"].apply(categorize_source)"
   ],
   "metadata": {
    "collapsed": false,
    "ExecuteTime": {
     "end_time": "2024-01-02T09:50:20.283666100Z",
     "start_time": "2024-01-02T09:50:20.256201500Z"
    }
   },
   "id": "c86d6e06fe57cb58",
   "execution_count": 5
  },
  {
   "cell_type": "markdown",
   "source": [
    "Creating \"siCode\" column:\n",
    "* A - if bitCode equals 1 and code3 is AP or AH, \n",
    "* B - if bitCode equals 1 and code3 is PRD, \n",
    "* BpA - if bitCode equals 1 and code3 is YLD, \n",
    "* H - if bitCode equals 0 and code3 is AP or AH, \n",
    "* T - if bitCode equals 0 and code3 is PRD, \n",
    "* TpH - if bitCode equals 0 and code3 is YLD, \n",
    "* None otherwise. "
   ],
   "metadata": {
    "collapsed": false
   },
   "id": "fff6035075d3aa48"
  },
  {
   "cell_type": "code",
   "outputs": [
    {
     "data": {
      "text/plain": "0        None\n1        None\n2        None\n3           A\n4           A\n         ... \n9998     None\n9999        B\n10000       A\n10001       B\n10002    None\nName: siCode, Length: 10003, dtype: object"
     },
     "execution_count": 8,
     "metadata": {},
     "output_type": "execute_result"
    }
   ],
   "source": [
    "si_code_mapping = {\n",
    "    (1, \"AP\"): \"A\",\n",
    "    (1, \"AH\"): \"A\",\n",
    "    (1, \"PRD\"): \"BpA\",\n",
    "    (1, \"YLD\"): \"B\",\n",
    "    (0, \"AP\"): \"H\",\n",
    "    (0, \"AH\"): \"H\",\n",
    "    (0, \"PRD\"): \"TpH\",\n",
    "    (0, \"YLD\"): \"T\"\n",
    "}\n",
    "\n",
    "df[\"siCode\"] = (\n",
    "    df[[\"bitCode\", \"code3\"]]\n",
    "    .apply(\n",
    "        lambda row: si_code_mapping.get((row[\"bitCode\"], row[\"code3\"]), None), axis=1\n",
    "    )\n",
    ")"
   ],
   "metadata": {
    "collapsed": false,
    "ExecuteTime": {
     "end_time": "2024-01-02T10:04:17.297938500Z",
     "start_time": "2024-01-02T10:04:17.216244800Z"
    }
   },
   "id": "aa0046160e21e171",
   "execution_count": 8
  },
  {
   "cell_type": "markdown",
   "source": [
    "# Step 3. Data loading\n",
    "Preparation for data transform to frontend"
   ],
   "metadata": {
    "collapsed": false
   },
   "id": "80671df1c6f2b33b"
  },
  {
   "cell_type": "code",
   "outputs": [
    {
     "data": {
      "text/plain": "array(['S1'], dtype=object)"
     },
     "execution_count": 23,
     "metadata": {},
     "output_type": "execute_result"
    }
   ],
   "source": [],
   "metadata": {
    "collapsed": false,
    "ExecuteTime": {
     "end_time": "2024-01-02T11:26:33.166371300Z",
     "start_time": "2024-01-02T11:26:32.978824500Z"
    }
   },
   "id": "69901265aa6775e3",
   "execution_count": 23
  }
 ],
 "metadata": {
  "kernelspec": {
   "display_name": "Python 3",
   "language": "python",
   "name": "python3"
  },
  "language_info": {
   "codemirror_mode": {
    "name": "ipython",
    "version": 2
   },
   "file_extension": ".py",
   "mimetype": "text/x-python",
   "name": "python",
   "nbconvert_exporter": "python",
   "pygments_lexer": "ipython2",
   "version": "2.7.6"
  }
 },
 "nbformat": 4,
 "nbformat_minor": 5
}
