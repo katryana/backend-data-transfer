{
 "cells": [
  {
   "cell_type": "markdown",
   "source": [
    "# Step 1. Data extraction"
   ],
   "metadata": {
    "collapsed": false
   },
   "id": "6f50ea6583daabd0"
  },
  {
   "cell_type": "code",
   "outputs": [],
   "source": [
    "import pandas as pd\n",
    "\n",
    "df = pd.read_csv(\"db_table.csv\")"
   ],
   "metadata": {
    "collapsed": false,
    "ExecuteTime": {
     "end_time": "2024-01-02T11:48:45.258425200Z",
     "start_time": "2024-01-02T11:48:43.175992300Z"
    }
   },
   "id": "391cb6c1634848e8",
   "execution_count": 24
  },
  {
   "cell_type": "markdown",
   "source": [
    "# Step 2. Data transformation"
   ],
   "metadata": {
    "collapsed": false
   },
   "id": "256fe96098e66a04"
  },
  {
   "cell_type": "markdown",
   "source": [
    "Creating \"bitCode\" column:\n",
    "* 1 - if source equals S1, \n",
    "* 0 otherwise."
   ],
   "metadata": {
    "collapsed": false
   },
   "id": "d89eea9158d6215d"
  },
  {
   "cell_type": "code",
   "outputs": [],
   "source": [
    "def categorize_source(source: str):\n",
    "    if source == \"S1\":\n",
    "        return 1\n",
    "    return 0\n",
    "\n",
    "df[\"bitCode\"] = df[\"source\"].apply(categorize_source)"
   ],
   "metadata": {
    "collapsed": false,
    "ExecuteTime": {
     "end_time": "2024-01-02T11:48:45.348683300Z",
     "start_time": "2024-01-02T11:48:45.312841700Z"
    }
   },
   "id": "c86d6e06fe57cb58",
   "execution_count": 25
  },
  {
   "cell_type": "markdown",
   "source": [
    "Creating \"siCode\" column:\n",
    "* A - if bitCode equals 1 and code3 is AP or AH, \n",
    "* B - if bitCode equals 1 and code3 is PRD, \n",
    "* BpA - if bitCode equals 1 and code3 is YLD, \n",
    "* H - if bitCode equals 0 and code3 is AP or AH, \n",
    "* T - if bitCode equals 0 and code3 is PRD, \n",
    "* TpH - if bitCode equals 0 and code3 is YLD, \n",
    "* None otherwise. "
   ],
   "metadata": {
    "collapsed": false
   },
   "id": "fff6035075d3aa48"
  },
  {
   "cell_type": "code",
   "outputs": [],
   "source": [
    "si_code_mapping = {\n",
    "    (1, \"AP\"): \"A\",\n",
    "    (1, \"AH\"): \"A\",\n",
    "    (1, \"PRD\"): \"BpA\",\n",
    "    (1, \"YLD\"): \"B\",\n",
    "    (0, \"AP\"): \"H\",\n",
    "    (0, \"AH\"): \"H\",\n",
    "    (0, \"PRD\"): \"TpH\",\n",
    "    (0, \"YLD\"): \"T\"\n",
    "}\n",
    "\n",
    "df[\"siCode\"] = (\n",
    "    df[[\"bitCode\", \"code3\"]]\n",
    "    .apply(\n",
    "        lambda row: si_code_mapping.get((row[\"bitCode\"], row[\"code3\"]), None), axis=1\n",
    "    )\n",
    ")"
   ],
   "metadata": {
    "collapsed": false,
    "ExecuteTime": {
     "end_time": "2024-01-02T11:48:45.630055300Z",
     "start_time": "2024-01-02T11:48:45.451070Z"
    }
   },
   "id": "aa0046160e21e171",
   "execution_count": 26
  },
  {
   "cell_type": "markdown",
   "source": [
    "# Step 3. Data loading\n",
    "Preparation for data transfer to frontend"
   ],
   "metadata": {
    "collapsed": false
   },
   "id": "80671df1c6f2b33b"
  },
  {
   "cell_type": "code",
   "outputs": [],
   "source": [
    "def process_request(input_request: dict):\n",
    "    code1 = input_request[\"code1\"]\n",
    "    code2 = input_request[\"code2\"]\n",
    "\n",
    "    filtered_df = df[\n",
    "        (df[\"code1\"].str.startswith(code1)) &\n",
    "        (df[\"code2\"].str.split(\"/\").str[0] == code2)\n",
    "    ]\n",
    "    \n",
    "    all_sources = filtered_df[\"source\"].unique().tolist()\n",
    "    response_all_sources = {(code1, code2): all_sources}\n",
    "    \n",
    "    selected_columns = [\"updateDate\", \"code1\", \"code2\", \"code3\", \"value\", \"bitCode\", \"siCode\"]\n",
    "    \n",
    "    response_records_by_sources = {}\n",
    "    for source in all_sources:\n",
    "        filtered_data = filtered_df[\n",
    "            filtered_df[\"source\"] == source\n",
    "        ][selected_columns]\n",
    "        \n",
    "        response_records_by_sources[\n",
    "            (code1, code2, source)\n",
    "        ] = filtered_data.to_dict(orient=\"records\")\n",
    "        \n",
    "    return response_all_sources, response_records_by_sources"
   ],
   "metadata": {
    "collapsed": false,
    "ExecuteTime": {
     "end_time": "2024-01-02T12:26:02.527299700Z",
     "start_time": "2024-01-02T12:26:02.462033800Z"
    }
   },
   "id": "69901265aa6775e3",
   "execution_count": 50
  },
  {
   "cell_type": "markdown",
   "source": [
    "# Example"
   ],
   "metadata": {
    "collapsed": false
   },
   "id": "7e982ee3146d3431"
  },
  {
   "cell_type": "code",
   "outputs": [],
   "source": [
    "input_example = {\"code1\": \"shA\", \"code2\": \"W\"}\n",
    "\n",
    "process_request(input_example)"
   ],
   "metadata": {
    "collapsed": false
   },
   "id": "fb558059f48478f1"
  }
 ],
 "metadata": {
  "kernelspec": {
   "display_name": "Python 3",
   "language": "python",
   "name": "python3"
  },
  "language_info": {
   "codemirror_mode": {
    "name": "ipython",
    "version": 2
   },
   "file_extension": ".py",
   "mimetype": "text/x-python",
   "name": "python",
   "nbconvert_exporter": "python",
   "pygments_lexer": "ipython2",
   "version": "2.7.6"
  }
 },
 "nbformat": 4,
 "nbformat_minor": 5
}
